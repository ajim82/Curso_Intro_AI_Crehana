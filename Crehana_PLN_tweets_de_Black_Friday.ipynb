{
  "nbformat": 4,
  "nbformat_minor": 0,
  "metadata": {
    "colab": {
      "name": "Crehana_PLN_tweets_de_Black_Friday.ipynb",
      "provenance": [],
      "collapsed_sections": [],
      "include_colab_link": true
    },
    "kernelspec": {
      "name": "python3",
      "display_name": "Python 3"
    },
    "language_info": {
      "name": "python"
    }
  },
  "cells": [
    {
      "cell_type": "markdown",
      "metadata": {
        "id": "view-in-github",
        "colab_type": "text"
      },
      "source": [
        "<a href=\"https://colab.research.google.com/github/fridaruh/Curso_Intro_AI_Crehana/blob/master/Crehana_PLN_tweets_de_Black_Friday.ipynb\" target=\"_parent\"><img src=\"https://colab.research.google.com/assets/colab-badge.svg\" alt=\"Open In Colab\"/></a>"
      ]
    },
    {
      "cell_type": "code",
      "metadata": {
        "id": "IRYIjzulRSZh"
      },
      "source": [
        "consumer_key = ''\n",
        "consumer_secret = ''\n",
        "access_token = ''\n",
        "access_token_secret = ''"
      ],
      "execution_count": 3,
      "outputs": []
    },
    {
      "cell_type": "code",
      "metadata": {
        "id": "YozKgMdSTY3p"
      },
      "source": [
        "import tweepy\n",
        "import pandas as pd\n",
        "import datetime"
      ],
      "execution_count": 1,
      "outputs": []
    },
    {
      "cell_type": "code",
      "source": [
        "startDate = datetime.datetime(2021, 11, 22, 0, 0, 0)\n",
        "endDate = datetime.datetime(2021, 11, 28, 0, 0, 0)"
      ],
      "metadata": {
        "id": "7rg2WBNf25ku"
      },
      "execution_count": 13,
      "outputs": []
    },
    {
      "cell_type": "code",
      "metadata": {
        "id": "TPJ6W8pFVK_Z"
      },
      "source": [
        "auth = tweepy.OAuthHandler(consumer_key, consumer_secret)\n",
        "auth.set_access_token(access_token, access_token_secret)"
      ],
      "execution_count": 4,
      "outputs": []
    },
    {
      "cell_type": "code",
      "metadata": {
        "id": "7Ae9wkKmVhoi"
      },
      "source": [
        "api = tweepy.API(auth)"
      ],
      "execution_count": 5,
      "outputs": []
    },
    {
      "cell_type": "code",
      "metadata": {
        "id": "kccSkR44VlJO"
      },
      "source": [
        "twitter_users = []\n",
        "tweet_time = []\n",
        "tweet_string = []\n",
        "\n",
        "for tweet in tweepy.Cursor(api.search, q='cinepolis', count=1000).items(1000):\n",
        "  if (not tweet.retweeted) and ('RT @' not in tweet.text):\n",
        "    if tweet.lang == 'es':\n",
        "      twitter_users.append(tweet.user.name)\n",
        "      tweet_time.append(tweet.created_at)\n",
        "      tweet_string.append(tweet.text)"
      ],
      "execution_count": 33,
      "outputs": []
    },
    {
      "cell_type": "markdown",
      "metadata": {
        "id": "KLbri4PbaSgA"
      },
      "source": [
        "Ejemplo cambiando parámetros:"
      ]
    },
    {
      "cell_type": "code",
      "metadata": {
        "id": "eAZ_GlGWaNTt"
      },
      "source": [
        "twitter_users_2 = []\n",
        "tweet_time_2 = []\n",
        "tweet_string_2 = []\n",
        "\n",
        "for tweet in tweepy.Cursor(api.search, q='@Fridaruh').items():\n",
        "  if (not tweet.retweeted) and ('RT @' not in tweet.text):\n",
        "    if tweet.lang == 'en':\n",
        "      twitter_users_2.append(tweet.user.name)\n",
        "      tweet_time_2.append(tweet.created_at)\n",
        "      tweet_string_2.append(tweet.text)"
      ],
      "execution_count": 29,
      "outputs": []
    },
    {
      "cell_type": "code",
      "metadata": {
        "id": "WPt62G41YJtc"
      },
      "source": [
        "df = pd.DataFrame({'name':twitter_users, 'time':tweet_time, 'tweet':tweet_string })"
      ],
      "execution_count": 34,
      "outputs": []
    },
    {
      "cell_type": "code",
      "source": [
        "df.shape"
      ],
      "metadata": {
        "colab": {
          "base_uri": "https://localhost:8080/"
        },
        "id": "R84O5B8i5qF6",
        "outputId": "0be79904-09e6-4c04-b170-e7f0ab9b8168"
      },
      "execution_count": 35,
      "outputs": [
        {
          "output_type": "execute_result",
          "data": {
            "text/plain": [
              "(282, 3)"
            ]
          },
          "metadata": {},
          "execution_count": 35
        }
      ]
    },
    {
      "cell_type": "markdown",
      "metadata": {
        "id": "p4zEHo8wZUFG"
      },
      "source": [
        "Exportamos el dataframe a un archivo csv"
      ]
    },
    {
      "cell_type": "code",
      "metadata": {
        "id": "qz8TG4SbY6co"
      },
      "source": [
        "df.to_csv('tweets_cinepolis.csv')"
      ],
      "execution_count": 36,
      "outputs": []
    },
    {
      "cell_type": "markdown",
      "metadata": {
        "id": "YNtf59igZYK4"
      },
      "source": [
        "En caso de que no tengas acceso a la API, tendrás que ejecutar esta celda donde importas el archivo csv"
      ]
    },
    {
      "cell_type": "code",
      "metadata": {
        "id": "A4zPEj3qY-Te"
      },
      "source": [
        "df = pd.read_csv('/content/tweets_cinepolis.csv')"
      ],
      "execution_count": 17,
      "outputs": []
    },
    {
      "cell_type": "code",
      "metadata": {
        "colab": {
          "base_uri": "https://localhost:8080/",
          "height": 206
        },
        "id": "OKtSg-yiZrZy",
        "outputId": "aa8ef84d-2bb0-49dd-aa94-5ba8635b4b05"
      },
      "source": [
        "df.head()"
      ],
      "execution_count": 37,
      "outputs": [
        {
          "output_type": "execute_result",
          "data": {
            "text/plain": [
              "                                           name                time  \\\n",
              "0                                  み┋sᴏ፝֟ғɪᴀ⟭⟬💙 2022-03-13 01:32:54   \n",
              "1                         María⁷ l PTD on Seoul 2022-03-13 01:32:53   \n",
              "2                                         ⁷𝕿𝖘.٭ 2022-03-13 01:32:52   \n",
              "3                                        Adamav 2022-03-13 01:32:52   \n",
              "4  AvvButterfly 💜✨ aleja ✨ trying to stay alive 2022-03-13 01:32:49   \n",
              "\n",
              "                                               tweet  \n",
              "0  @Cinepolis Gracias a ustedes fue una experienc...  \n",
              "1  amixes, ya no puedo hablar #cinepolis #PTD_ON_...  \n",
              "2  @gigi7taetae @Cinepolis Hasta con el gerente f...  \n",
              "3  @Cinepolis GRACIAS A TI, POR SOPORTARNOS, AYUD...  \n",
              "4  Hermoso todo, recién llegando a casa, orgullos...  "
            ],
            "text/html": [
              "\n",
              "  <div id=\"df-a1583acc-4933-4989-a9d9-415517d321d9\">\n",
              "    <div class=\"colab-df-container\">\n",
              "      <div>\n",
              "<style scoped>\n",
              "    .dataframe tbody tr th:only-of-type {\n",
              "        vertical-align: middle;\n",
              "    }\n",
              "\n",
              "    .dataframe tbody tr th {\n",
              "        vertical-align: top;\n",
              "    }\n",
              "\n",
              "    .dataframe thead th {\n",
              "        text-align: right;\n",
              "    }\n",
              "</style>\n",
              "<table border=\"1\" class=\"dataframe\">\n",
              "  <thead>\n",
              "    <tr style=\"text-align: right;\">\n",
              "      <th></th>\n",
              "      <th>name</th>\n",
              "      <th>time</th>\n",
              "      <th>tweet</th>\n",
              "    </tr>\n",
              "  </thead>\n",
              "  <tbody>\n",
              "    <tr>\n",
              "      <th>0</th>\n",
              "      <td>み┋sᴏ፝֟ғɪᴀ⟭⟬💙</td>\n",
              "      <td>2022-03-13 01:32:54</td>\n",
              "      <td>@Cinepolis Gracias a ustedes fue una experienc...</td>\n",
              "    </tr>\n",
              "    <tr>\n",
              "      <th>1</th>\n",
              "      <td>María⁷ l PTD on Seoul</td>\n",
              "      <td>2022-03-13 01:32:53</td>\n",
              "      <td>amixes, ya no puedo hablar #cinepolis #PTD_ON_...</td>\n",
              "    </tr>\n",
              "    <tr>\n",
              "      <th>2</th>\n",
              "      <td>⁷𝕿𝖘.٭</td>\n",
              "      <td>2022-03-13 01:32:52</td>\n",
              "      <td>@gigi7taetae @Cinepolis Hasta con el gerente f...</td>\n",
              "    </tr>\n",
              "    <tr>\n",
              "      <th>3</th>\n",
              "      <td>Adamav</td>\n",
              "      <td>2022-03-13 01:32:52</td>\n",
              "      <td>@Cinepolis GRACIAS A TI, POR SOPORTARNOS, AYUD...</td>\n",
              "    </tr>\n",
              "    <tr>\n",
              "      <th>4</th>\n",
              "      <td>AvvButterfly 💜✨ aleja ✨ trying to stay alive</td>\n",
              "      <td>2022-03-13 01:32:49</td>\n",
              "      <td>Hermoso todo, recién llegando a casa, orgullos...</td>\n",
              "    </tr>\n",
              "  </tbody>\n",
              "</table>\n",
              "</div>\n",
              "      <button class=\"colab-df-convert\" onclick=\"convertToInteractive('df-a1583acc-4933-4989-a9d9-415517d321d9')\"\n",
              "              title=\"Convert this dataframe to an interactive table.\"\n",
              "              style=\"display:none;\">\n",
              "        \n",
              "  <svg xmlns=\"http://www.w3.org/2000/svg\" height=\"24px\"viewBox=\"0 0 24 24\"\n",
              "       width=\"24px\">\n",
              "    <path d=\"M0 0h24v24H0V0z\" fill=\"none\"/>\n",
              "    <path d=\"M18.56 5.44l.94 2.06.94-2.06 2.06-.94-2.06-.94-.94-2.06-.94 2.06-2.06.94zm-11 1L8.5 8.5l.94-2.06 2.06-.94-2.06-.94L8.5 2.5l-.94 2.06-2.06.94zm10 10l.94 2.06.94-2.06 2.06-.94-2.06-.94-.94-2.06-.94 2.06-2.06.94z\"/><path d=\"M17.41 7.96l-1.37-1.37c-.4-.4-.92-.59-1.43-.59-.52 0-1.04.2-1.43.59L10.3 9.45l-7.72 7.72c-.78.78-.78 2.05 0 2.83L4 21.41c.39.39.9.59 1.41.59.51 0 1.02-.2 1.41-.59l7.78-7.78 2.81-2.81c.8-.78.8-2.07 0-2.86zM5.41 20L4 18.59l7.72-7.72 1.47 1.35L5.41 20z\"/>\n",
              "  </svg>\n",
              "      </button>\n",
              "      \n",
              "  <style>\n",
              "    .colab-df-container {\n",
              "      display:flex;\n",
              "      flex-wrap:wrap;\n",
              "      gap: 12px;\n",
              "    }\n",
              "\n",
              "    .colab-df-convert {\n",
              "      background-color: #E8F0FE;\n",
              "      border: none;\n",
              "      border-radius: 50%;\n",
              "      cursor: pointer;\n",
              "      display: none;\n",
              "      fill: #1967D2;\n",
              "      height: 32px;\n",
              "      padding: 0 0 0 0;\n",
              "      width: 32px;\n",
              "    }\n",
              "\n",
              "    .colab-df-convert:hover {\n",
              "      background-color: #E2EBFA;\n",
              "      box-shadow: 0px 1px 2px rgba(60, 64, 67, 0.3), 0px 1px 3px 1px rgba(60, 64, 67, 0.15);\n",
              "      fill: #174EA6;\n",
              "    }\n",
              "\n",
              "    [theme=dark] .colab-df-convert {\n",
              "      background-color: #3B4455;\n",
              "      fill: #D2E3FC;\n",
              "    }\n",
              "\n",
              "    [theme=dark] .colab-df-convert:hover {\n",
              "      background-color: #434B5C;\n",
              "      box-shadow: 0px 1px 3px 1px rgba(0, 0, 0, 0.15);\n",
              "      filter: drop-shadow(0px 1px 2px rgba(0, 0, 0, 0.3));\n",
              "      fill: #FFFFFF;\n",
              "    }\n",
              "  </style>\n",
              "\n",
              "      <script>\n",
              "        const buttonEl =\n",
              "          document.querySelector('#df-a1583acc-4933-4989-a9d9-415517d321d9 button.colab-df-convert');\n",
              "        buttonEl.style.display =\n",
              "          google.colab.kernel.accessAllowed ? 'block' : 'none';\n",
              "\n",
              "        async function convertToInteractive(key) {\n",
              "          const element = document.querySelector('#df-a1583acc-4933-4989-a9d9-415517d321d9');\n",
              "          const dataTable =\n",
              "            await google.colab.kernel.invokeFunction('convertToInteractive',\n",
              "                                                     [key], {});\n",
              "          if (!dataTable) return;\n",
              "\n",
              "          const docLinkHtml = 'Like what you see? Visit the ' +\n",
              "            '<a target=\"_blank\" href=https://colab.research.google.com/notebooks/data_table.ipynb>data table notebook</a>'\n",
              "            + ' to learn more about interactive tables.';\n",
              "          element.innerHTML = '';\n",
              "          dataTable['output_type'] = 'display_data';\n",
              "          await google.colab.output.renderOutput(dataTable, element);\n",
              "          const docLink = document.createElement('div');\n",
              "          docLink.innerHTML = docLinkHtml;\n",
              "          element.appendChild(docLink);\n",
              "        }\n",
              "      </script>\n",
              "    </div>\n",
              "  </div>\n",
              "  "
            ]
          },
          "metadata": {},
          "execution_count": 37
        }
      ]
    },
    {
      "cell_type": "markdown",
      "metadata": {
        "id": "hR2rjfqjZ7-8"
      },
      "source": [
        "Convierto los tweets a listas"
      ]
    },
    {
      "cell_type": "code",
      "metadata": {
        "id": "aZ6Q5lpQZstP"
      },
      "source": [
        "data = df['tweet'].to_list()"
      ],
      "execution_count": 38,
      "outputs": []
    },
    {
      "cell_type": "code",
      "metadata": {
        "id": "qhr6KWj9aBpl",
        "colab": {
          "base_uri": "https://localhost:8080/"
        },
        "outputId": "37080b83-6d6d-4d65-8d65-d6fcee38e119"
      },
      "source": [
        "data"
      ],
      "execution_count": 39,
      "outputs": [
        {
          "output_type": "execute_result",
          "data": {
            "text/plain": [
              "['@Cinepolis Gracias a ustedes fue una experiencia inolvidable 😭💗 https://t.co/LOy7ckohFh',\n",
              " 'amixes, ya no puedo hablar #cinepolis #PTD_ON_STAGE_SEOUL',\n",
              " '@gigi7taetae @Cinepolis Hasta con el gerente fui, si se pudo amigx 🥴',\n",
              " '@Cinepolis GRACIAS A TI, POR SOPORTARNOS, AYUDARNOS Y DARNOS LA MEJOR EXPERIENCIA. GRANDES FAMILIA. PD: Gracias Joel. 💜💜💜💜💜🌹',\n",
              " 'Hermoso todo, recién llegando a casa, orgullosa de Army Argentina que bailo, canto, y todo con mucho respeto… https://t.co/Pk1ZieBubW',\n",
              " 'Medio pedorro tu combo pero gracias por el concierto 🥺💜 https://t.co/zUcoEtEq1g',\n",
              " '@Cinepolis Gracias tío Cinépolis, estuvo hermoso el concierto ✨💜💜 https://t.co/WaDNkaMabW',\n",
              " '@Cinepolis Gracias a ustedes, por hacer realidad el sueño de ARMY 💜💜💜💜💜💜✨✨✨',\n",
              " '@Cinepolis Con toda la actitud....  aunque pedí mi boleto conmemorativo y los pases 😭😭😭😭😭 https://t.co/zCxDHqAafd',\n",
              " '@Cinepolis Muchas gracias 🌞',\n",
              " '@Cinepolis Gracias 💕💕💕💕',\n",
              " '@Cinepolis Améeee el concierto...que se repita siempre...👏👏👏',\n",
              " '@Cinepolis La pasé increíble!! Gracias Cinépolis!!!💜💜💜💜',\n",
              " '@Cinepolis Gracias por esta experiencia 💜',\n",
              " '@Cinepolis TODOOO',\n",
              " '@Cinepolis GRACIAS JOEL 💜💜💜',\n",
              " '@Baby_Monnie_ @Cinepolis Coacalco? En Power Center (enfrente) todo bien con la transmisión.',\n",
              " 'Luego me dieron unas estampas de bts 💜💜💜💜💜💜😉🙃 están hermosas muchas gracias #cinepolis gracias Joel https://t.co/6a6CE2KCP0',\n",
              " '@Cinepolis Gracias Cinépolis y al tío Joel lo llevamos en el corazón 💜💜 https://t.co/bP1oTeGDuu',\n",
              " '@Cinepolis Gracias me la pase super y fue una maravilloso momento💜💜💜',\n",
              " '@Cinepolis Me quedé sin voz pero valió la pena &lt;3 💜',\n",
              " '@Cinepolis Gracias fue una experiencia maravillosa la AME💜💜💜💜💜💜💜💜💜💜💜💜💜💜💜💜💜💜💜💜💜 https://t.co/siTZirCbY0',\n",
              " '@Cinepolis Gracias tío Joel ya descansarás de Army🤗',\n",
              " '@Cinepolis Gracias a ti, tío cinépolis... que se repita pronto 🥺💜',\n",
              " '@Cinepolis Gracias a ustedes por traer el concierto a sus salas💜💜💜',\n",
              " '@Cinepolis Me dejaron sin garganta pero sin duda la experiencia fue muy buena. Más conciertos así por favor',\n",
              " '@Cinepolis Valió la pena aunque me quedé afónica',\n",
              " '@Cinepolis En el cine al que fui todo estuvo muy bien ✨ estupendo trabajo 💜 gracias https://t.co/f73PWc41TZ',\n",
              " '@Cinepolis @ValuJim433 Gracias Cinépolis espero más de estos 🤠💗',\n",
              " '@Cinepolis tqm Cinépolis&lt;333',\n",
              " '@Cinepolis Quede super ronca, pero valió la pena',\n",
              " '@Cinepolis Gracias a usted tío Cinépolis, fue una buena experiencia...\\nMuchas gracias ☺️💜✨',\n",
              " 'en mi cine cinepolis fue super mal desorganizado, por otra parte mis BTS 10/10,pero cinepolis arregla a tus \"empleados\"#cinepolis',\n",
              " '@Cinepolis Gracias 😊 quieroo mas de esto!!!!! https://t.co/k9hXvvWpnF',\n",
              " '@Cinepolis Gracias tío cinepolis, sigue dando lo mejor de ti para que todos podamos seguir en tus salas por más tiempo 💜',\n",
              " '@Cinepolis Gracias a ti @cinepolis  me la pase increíble. 💜',\n",
              " 'hermanas xq dicen q no pudieron grabar literalmente en mi cinepolis no lo transmiti en vivo xq ni tenia ganas pero… https://t.co/hmZLmlVuNf',\n",
              " '@Cinepolis FUE HERMOSOOOO 💜😭 https://t.co/6IptjcZGlL',\n",
              " '@Cinepolis Tqm Joel 💜\\nY gracias Cinépolis, por permitirnos vivir está experiencia tan cercana a la de un concierto… https://t.co/Q6M1NHuYFL',\n",
              " '@Cinepolis ojalá pronto algo así vuelva a suceder, gracias!!💜\\U0001faf0',\n",
              " '@Cinepolis Ame estoo',\n",
              " '@Cinepolis Gracias 💜🎟🎶☺',\n",
              " '@Cinepolis Me quede sin voz, pero valió la penaaaa. 💜🛐',\n",
              " 'Repetición !!!! 😛🧡💛💜 muchas gracias tío #cinepolis  #PermissionToDanceOnStageSeoul https://t.co/km9JGsDbQR',\n",
              " '@MasQueCineLatam ¡ E S P E C T A C U L A R ! \\n\\n#PTDLIVEVIEWING #PermissionToDanceOnStageSeoul #Cinepolis… https://t.co/vGDYaxjiv3',\n",
              " '@Cinepolis 💜Fue una experiencia muy bonita, gracias',\n",
              " '@Cinepolis Gracias Tío Cinépolis por hacerlo posible 💜💜',\n",
              " 'No pude ir a verlos en el cine pero cuando haya otra oportunidad si o si haré de todo por estar ahí.\\nAsí que army s… https://t.co/ExEzwqnOVU',\n",
              " '@Cinepolis Gracias💜',\n",
              " '@Cinepolis Gracias a ti Cinépolis...por traernos la transmisión 💜💜',\n",
              " '@Cinepolis Me duele la garganta y las patas, pero valió cada maldito peso que me gaste.',\n",
              " '@Cinepolis Gracias.  💜',\n",
              " '@Cinepolis gracias a bts y a ustedes por compartirnos eso',\n",
              " '@silvialqp @Cinepolis Si soy 🥰',\n",
              " '@Cinepolis Faltaron los subtítulos!!!',\n",
              " '@Cinepolis Gracias a ti Cinepolis por proyectar en tus salas y dejarnos disfrutar como si fuera en vivo 💜💜👏🏻👏🏻',\n",
              " 'Quien estaba en el cinepolis de avellaneda  a las 15hs en laa sala 3 me cayeron re bien reportense:( https://t.co/qQxc9w5NEG',\n",
              " '@Cinepolis GRACIAS POR TODOOOO',\n",
              " '@Cinepolis Fue lo mejor del mundo✨✨✨✨',\n",
              " 'Un día para nunca olvidar, fue increíbleeeee😭🥺💜 https://t.co/ArghduQROp',\n",
              " '@Cinepolis Deberían de transmitir conciertos pasados 😩🥺',\n",
              " '@Cinepolis GRACIAS POR TAN BONITA EXPERIENCIA!!! 💜💜💜💜💜',\n",
              " '@Cinepolis Me quedé afónico pero valió la pena',\n",
              " '@Cinepolis gracias! 💜',\n",
              " 'Hace 3 meses viendolos desde mi casa, hoy en el cine, y si se puede el próximo año en un estadio!!!\\n\\n@BTS_twt @Ticketmaster_Me @Cinepolis',\n",
              " 'ARMYS de la sala 10 de la 1 de la tarde de #cinepolis Santa Anita \\nAUN NO SUPERO EL HECHO Q ME PERDI GO GO Y EL MOMENTO TAEKOOK!!!!!?',\n",
              " '(1) Hoy en el cine (Cinépolis Mx Córdoba) compré mi combo específicamente para tener mi boleto conmemorativo y pasó… https://t.co/scSauIZQML',\n",
              " 'No salí del cine con las manos vacías. 🥺💜✨\\nGracias a #BTSARMY Y @MasQueCineLatam\\n@cinepolis por hacer posible esta… https://t.co/busV79g9ws',\n",
              " 'A tod@s los que esperaron, estuvieron, aguantaron, rieron y compartieron, ¡gracias Army! 💜 BTS Permission to Dance✨ https://t.co/lttto8n9jo',\n",
              " 'Ameeeee!! #PTD_ON_STAGE_SEOUL\\xa0 \\nEn #Cinepolis\\n#BTSARMY\\xa0 \\n#BTS\\xa0\\n#BTSCONCERT \\nME EMOCIONE POR TODOOOOO!!!💜💜💜 https://t.co/jhAx649hHc',\n",
              " '@ARMY98564464 @_euphoriality @Cinepolis No, esta es sala 1 de Satélite',\n",
              " '@mimsgold Súper bien💕 entramos un poco tarde porque los de cinepolis no se organizaron bien (a pesar de que llegamo… https://t.co/8TXbTX9EjE',\n",
              " '@MasQueCineLatam Joder no hay palabras.....😢\\U0001f979💜 Cuando vengan a México 🇲🇽🇲🇽🇲🇽 les prometo gritar más de lo que lo hi… https://t.co/cAV8LgsHqh',\n",
              " 'Gracias @Cinepolis 💜💜💜💜 #bts #BTSCONCERT #ARMY #PermissionToDanceOnStageSeoul @BTS_twt https://t.co/Rxyf7J0ujz',\n",
              " 'el boletito de cinepolis 👍 https://t.co/gTrOksKUJq',\n",
              " '#Army como para venir a hacer esto y ni siquiera reembolsarnos por hacer estas porquerías.\\n\\nTratamos de aprovechar… https://t.co/FTvVTXHPJc',\n",
              " 'Pero de esa forma era prácticamente imposible, me quedé con muy mal sabor de boca.\\n\\nEspero que #Cinepolis pueda mej… https://t.co/dxuBDGrKse',\n",
              " 'Vengo a exponer el malísimo servicio que dio hoy #Cinepolis Portal en Veracruz, desde el principio la organización… https://t.co/xZiJs7S2Vc',\n",
              " 'Realmente disfrute mucho la transmisión del cine\\n#PermissionToDanceOnStage #cinepolis https://t.co/bnAb2Img7v',\n",
              " '@Ostara_20 @Cinepolis en que sala estuviste? en la 4 en la que yo estaba todo estuvo bien',\n",
              " '+ resumen de todo esto: la sala 13 de cinepolis la función de las 19:00 estuvo muy feo, canciones entre cortadas y… https://t.co/VPjN81LvBs',\n",
              " '@Cinepolis el mío también',\n",
              " '@MasQueCineLatam SIMPLEMENTE GRACIAS @Cinepolis  @MasQueCineLatam  💜💜💜💜 https://t.co/VirAINvYu5',\n",
              " 'Fui al cinepolis a ver la retransmision del concierto #PTD_ON_STAGE_SEOUL #PermissionToDanceOnStageSeoul  y grite m… https://t.co/T2CX1WU4qk',\n",
              " 'Army son tan lindas 😭 no paraban de regalar cositas, todos se pararon a bailar y cantar en la sala, aventaron globo… https://t.co/joNwcRKKcc',\n",
              " 'Si me dio risa 🤣... https://t.co/UNueFiwIQz',\n",
              " '@MasQueCineLatam @Cinepolis 😎😎 @MasQueCineLatam 💜💜 #BTS_twt 👑👑 Ame todo !!  #BTS_PTD_ON_STAGE_SEOUL 😍😘🥰 https://t.co/PHSDWiZmw5',\n",
              " 'Alta traición, yo y otras 3 armys eramos las únicas cantando y gritando en la sala del cine, aparte según yo vi que… https://t.co/LnRbvfpwFk',\n",
              " 'que risa que acá en avellaneda le digan cinepolis y no village. es como el pertutti a blois en pleno avellaneda centro',\n",
              " 'De como Cinépolis nos hizo llorar jajajajaja',\n",
              " 'Gracias gracias a @Cinepolis y @MasQueCineLatam por traer este precioso concierto a sus pantallotas claro que sí \\nL… https://t.co/UnZgXbOdl9',\n",
              " 'Si era problema de la transmisión en vivo porq otras salas seguían con normalidad?!? NOS PERDIMOS 4 CANCIONES PORQ… https://t.co/CqYZSkXjot',\n",
              " '@Cinepolis Oye, que onda con que en Estados como Baja California Sur las funciones empezaron 1 hora antes \"porque s… https://t.co/3pUxcp6uRw',\n",
              " 'Mi amore Seokjin precioso💜 jajaja casi me quedo sorda(pero fue buena decisión de cinepolis porque no dejaban de gri… https://t.co/QAKyP4k84d',\n",
              " 'En fin, @Cinepolis que mala experiencia nos dieron )): https://t.co/29f3VbR34h',\n",
              " '@Cinepolis Lindo, pero triste que hayan cortado el show más de cinco veces perdiendo momentos importantes, fuera de… https://t.co/9r8JHi615A',\n",
              " '@Cinepolis Mil gracias por el evento, pudimos gritar y cantar con BTS https://t.co/BqgHseHb2i',\n",
              " 'yo canté (no gritando) y bailé en mi lugar y literalmente para mí fue un concierto, fue fantástico porque hubo repe… https://t.co/rb55aDGYxt',\n",
              " '@Cinepolis Joel y para las ARMYS que vimos re mal el concierto en sus salas que procede???',\n",
              " '@MasQueCineLatam #cinepolis #PermissionToDanceOnStage #BTSCONCERT #PermissionToDanceOnStageSeoul  súper bonito (. ❛… https://t.co/02Y0JOTcbZ',\n",
              " '@Cinepolis Gracias Joel y  Cinépolis por transmitir el concierto y haber abierto algunas salas más ✌🏻✌🏻',\n",
              " '#cinepolis\\nMorelia sala 2\\nMi Familia 💜🥰💜🥰 https://t.co/UuPHzOmMFH',\n",
              " '@Cinepolis Tío porfa me pueden mandar mi boleto conmemorativo?? COMPRE el combo Army y me dijeron, ya después de qu… https://t.co/CAewCLwbPq',\n",
              " '+Gracias a bts por ser lo mejor que me pasó en mi vida, gracias por ser excelentes y ser lo que son, gracias a big… https://t.co/4570QfToF1',\n",
              " '@jmygmochis A mi me costo 216 y en pantalla decia 175 y en la imagen que subio Cinepolis decia 137',\n",
              " '@AyudaCinepolis @Cinepolis @AyudaCinepolis no se dio ninguna solución, fue en todas las salas del cine y aun así no… https://t.co/kaUM2IGBCl',\n",
              " 'Me encantó, lo disfruté mucho. Me alegra tener mas experiencias así de Bangtan, me alegran la vida. 💜\\n\\n#cinepolis… https://t.co/ht2LF3PwH8',\n",
              " '@noahpar10566046 @Cinepolis En definitiva por eso nos volvemos ilegales jajajajajajajajajajaja',\n",
              " 'No considere ni por un segundo ir al concierto de cinepolis pq me da mucho pesar cuando gritan tanto que no escucho las canciones 🥴',\n",
              " 'Me cayeron demasiado bien 😭 #BTSARMY #BTSCONCERT2022 #BTS_PTD_ON_STAGE_SEOUL #BTSSUGA #btsconcert #BTScinema… https://t.co/QxQGkq7IPG',\n",
              " '@carlosjuarez22 @CoeprisTam Es cinepolis de Hidalgo.. Pero no te preocupes si el gobernador andaba allá y saludo a… https://t.co/H2WejJoyHo',\n",
              " 'Quiero agradecer a la Army que preparó estos regalitos. Cinépolis Avellaneda. Función 15 hs.  Muchas gracias Army💜💜… https://t.co/Sqa94JgLz2',\n",
              " '+ con mi amiga decidimos irnos tambien, cuando salimos viene una trabajadora de Cinepolis y decirnos q entremos q i… https://t.co/lxFrPZpgWv',\n",
              " 'Gracias a la sala 1 de la función de las 12 en #cinepolis acoxpa por hacerme revivir Wings y Idol con todo mi ser n… https://t.co/Oryo5VWPX8',\n",
              " '@Cinepolis El nuestro también uwur \\nTe queremos mucho Joel &gt;w&lt; 💜✨🥺\\U0001faf0🏻\\n#BTSARMY #BTS #PTD_ON_STAGE_SEOUL',\n",
              " 'ARMY! Ayúdenme a encontrar a mis hermanas de sangre morada de la plaza central sala 2 de las 12 de la tarde 😭😭😭😭😭😭… https://t.co/TWO8dxWRjl',\n",
              " 'Gracias por esta experiencia #cinepolis #BTS_PTD_ON_STAGE_SEOUL https://t.co/FYSpMEfnrO',\n",
              " 'Armys que fueron al cine de Rio Nilo a la función de las 4, las amo. 😭💜#cinepolis https://t.co/hmYAQNZKBQ',\n",
              " '@pechivk @Cinepolis JAJAJA si se pasaron',\n",
              " 'Para las dos personitas super lindas que se tomaron fotito conmigo en cinepolis Sendero, se me olvido decirles que me la pasarán 🥺💜',\n",
              " 'Ahhhhhh, al fin nos conocimos en persona!! Gracias por el momento, fue muy hermoso y especial!!! 🤗\\U0001f90d✨💜😊… https://t.co/fenNICOArQ',\n",
              " '@AdriiRoCas @Cinepolis En mi sala una grito, saquen las recetas jajajakaka',\n",
              " 'En el cinepolis que fui no dieron sprite, pésimo 😔✊',\n",
              " '@Cinepolis Gracias joel tqm https://t.co/1Q1meaz40T',\n",
              " 'Tío @Cinepolis nos morimos por ver a Daniel Radlciffe en @LostCityMovie https://t.co/pS5zPlOEAg',\n",
              " '@Cinepolis Te amo Cinepolis, gracias de verdad https://t.co/qd3Tf3wHaF',\n",
              " '@Cinepolis GRACIAS! Gracias por un excelente día 💜🙏🏻 fui muy feliz 😭  \\n\\n¡Recordaré este día por siempre!\\n\\n#BTSARMY\\xa0… https://t.co/QHbxrv9m10',\n",
              " 'Me cagas Cinépolis pero la neta me siento muy agradecida con los papás de las armys y de la gente de la fila que no… https://t.co/7UPzmTnzbW',\n",
              " 'No tengo palabras para describir lo que acabo de vivir, parecía que estaba en el concierto.\\nTuve una semana de mrd… https://t.co/OhBgPTAxkq',\n",
              " '@IKarpy_ @Cinepolis Que bien que te la hayas pasado chido. Para cuando vayas a Seúl a verlos en vivo, ya sabes que… https://t.co/Y6lv6al8Wp',\n",
              " '@Cinepolis Muchas gracias @cinepolis por esta experiencia única fue increíble, lo único  no me gusto fue que no me… https://t.co/4BNurbkiM9',\n",
              " '@allstarsky7 Al final de la proyección apareció; see you soon. Pero no sé si eso era por parte de Cinépolis o de los chicos 🤔',\n",
              " 'Army que se cayó encima mío por las escaleras del Mallplaza en Bogotá saliendo de la función de la 1:00 pm de PTD,… https://t.co/02BbAUiH2n',\n",
              " 'CINÉPOLIS DE AVELLANEDA LA CONCHA DE TU HERMANAAAAA',\n",
              " '@noahpar10566046 @Cinepolis Créeme que las personas disfrutamos ver a los chicos, pero en definitiva se atoraba más… https://t.co/Z0deB0M7C5',\n",
              " 'Lxs amo hermanxs de sangre morada, ustedes hacen que la experiencia sea más bonita, y gracias @Cinepolis por haber… https://t.co/4awdwpYx05',\n",
              " 'Hace rato q se acabó el concierto, y wow la mejor experiencia q he vivido en toda mi vida, la re viví y me divertí… https://t.co/QTLHHGVyGJ',\n",
              " '@BTS_MXCO @Cinepolis  @MasQueCineLatam \\nHermoso dia 💜🥰✨ https://t.co/S8wwxeWB3p',\n",
              " '@soobiunni @Cinepolis @soobiunni Hola, sería necesario verificarlo en el cine donde se llevó a cabo tu función.',\n",
              " 'QUIERO DECIR, OJEAS EL SUSPENSO QUE GENERABA CUANDO LAS NOTAS MUSICALES CAMBIABAN DE LA NADA PARA, A CONTINUACIÓN,… https://t.co/k37hQVY2yV',\n",
              " '@BTS_twt\\nGane en la vida con esta foto🥰\\n#JIMIN \\n#cinepolis \\n#PTD_ON_STAGE_SEOUL #PTD_ON_STAGE_SEOUL_day2 https://t.co/VZkjS6WsDZ',\n",
              " 'Amé mi sala la neta #cinepolis  #PTD_ON_STAGE_SEOUL #BTS https://t.co/Ym7E8sZGX4',\n",
              " '@Cinepolis Gracias Tío Joel. Fue un día maravilloso, gracias por hacer esto posible 💜 https://t.co/ouJeTc6R8M',\n",
              " '@Cinepolis Gracias Cinépolis una experiencia realmente de otro mundo... Sin embargo me hubiera gustado que en Zacat… https://t.co/d3tHzsRiGD',\n",
              " '@YexaleC @nicolle971_ Pero si podíamos cantar y bailar y todo bueno al menos los Cinépolis si lo permitían',\n",
              " 'De los mejores días de mi vida😊 @lanegrisgt 💜 #Bts\\n#PermissionToDance \\n#Cinepolis https://t.co/xrBAE2rt2k',\n",
              " '@MasQueCineLatam Asombroso ✨💜 #PermissionToDanceOnStageSeoul \\n#BTS_PTD_ON_STAGE_SEOUL  \\n#BTSARMY  \\n#BTS  \\n#cinepolis https://t.co/vDXMWl0v5Z',\n",
              " 'Que emoción vi a BTS con mi mejor amigo en @Cinepolis \\nComo siempre y una vez más Gracias @BTS_twt 💜😍🥺… https://t.co/tWR9oB0Qyn',\n",
              " '@Cinepolis @Cinepolis Ame, Ame Todo !! 👑❣️❣️✨',\n",
              " '@Cinepolis Fui la más FELIZ😭💜 gracias Joel💜🙏🏻 https://t.co/5dSw4n3VcW',\n",
              " 'Nos pusieron el concierto empezado, nos quitaron dos canciones del principio, muy mal @Cinepolis',\n",
              " '@taekugh13 @AyudaCinepolis @Cinepolis Mi pregunta exactamente',\n",
              " 'Amigarmis de #puebla #cinepolis La Noria, Sala 8 función de las 4, yo tome la foto con la cámara desechable. Cuando… https://t.co/PZv2dU5gzH',\n",
              " '#cinepolis quienes estuvieron en la sala 1 de Oasis coyoacan en la fila P, gracias por todo, son muy hermosas!! #PermissionToDanceOnStage',\n",
              " 'Me hubiese gustado tener una mejor decoración en el cine, nada conmemorativo de BTS #cinepolis https://t.co/gsZI2PvI8y',\n",
              " 'SEÑOR DE CINEPOLIS Q NOS DIJO ESO CON TODO RESPETO COMA COLA 😡',\n",
              " '@Cinepolis Cinépolis Portal centenario un asco!!Horario 4pm sala 1 pusieron el concierto de PTD a media canción de… https://t.co/VYxCHzbtvS',\n",
              " 'Hola\\nBusco a una chica super linda de pelito corto que estaba en Cinepolis Avellaneda, con un chica de pelito rojo… https://t.co/C7LiFdNlQ5',\n",
              " 'Un bello día 💜✨ @Cinepolis @MasQueCineLatam https://t.co/dnFatUkFMb',\n",
              " '@lewisrimart @Cinepolis Lewis, también eres army?',\n",
              " '@MasQueCineLatam @bts_bighit 😎 @BTS_twt 😍 @Cinepolis 🇲🇽 @MasQueCineLatam 💜💜💜😎 #BTS_PTD_ON_STAGE_SEOUL 😘🥰🥰 Ame Absol… https://t.co/xC9nCFcgZr',\n",
              " '@Cinepolis Y el mío también 🥺💜 https://t.co/fD3Sq57A9M',\n",
              " 'te ame sala uno del cinépolis pablo livas',\n",
              " '@Fernand89871636 me lo cobraron el $185 en el cinepolis normal ☹',\n",
              " 'No tengo palabras para describir lo que siento. Fue una hermosa experiencia a ver podido vivir éste día el conciert… https://t.co/X6SNK7l7aJ',\n",
              " '👏👏💜💜 Si la army que estaba bailando y cantando al lado me encuentra que me avise JAJAJAJA @BTS_twt… https://t.co/dzV8A0ObZn',\n",
              " '@Cinepolis Cinépolis Portal centenario un asco!!Horario 4pm sala 1 pusieron el concierto de PTD a media canción de… https://t.co/MNd0x20xFX',\n",
              " '@Cinepolis Recortaron media hora de concierto!?',\n",
              " 'Una experiencia muy bonita, gracias a las 2 armys que nos regalaron lomocards y gracias a lxs demás por ser educadx… https://t.co/L5LVe6qIx0',\n",
              " '@AyudaCinepolis @Cinepolis en nuestra función se fue la luz y nos dejaron mas de 40 minutos sin ver nada ¿que procede?',\n",
              " 'A todas las ARMY de la funcion de las 4pm #Cinepolis VIP las tkm, fué divertidisimo',\n",
              " '@Cinepolis Joel por qué no dejaron grabar 🤧🤧',\n",
              " 'Este día se quedará grabado por el resto de mi vida. La re viví, bailé, canté, me emocioné, grité tanto hasta queda… https://t.co/MU7mlEeZMJ',\n",
              " '@Cinepolis Gracias Joel ojalá te den un ascenso o un bono mínimo. https://t.co/qUt5XnpOtL',\n",
              " 'Hola!!! Busco a las armys que estuvieron en la sala 2 en la función de las 4pm en cinepolis plaza sendero de Querétaro 😭😭😭',\n",
              " 'Yo regresando a mi casa del concierto en Cinépolis de BTS. https://t.co/ad2QG5Zpyt',\n",
              " '@soobiunni @AyudaCinepolis @Cinepolis CÓMO VA A SER EN VIVO SI ES UN REPLAY??? @AyudaCinepolis ?????',\n",
              " '@Cinepolis MUCHAS GRACIAS JOEL https://t.co/ifMDnjeSiy',\n",
              " '@Cinepolis Pésimo servicio y actitud por parte de los trabajadores de patio universidad, me vendieron un combo que… https://t.co/YI9AT7qe9n',\n",
              " '#cinepolis #Angelopolis\\nHermanas de sangre morada diendo regalos a todas 💜💜💜🇲🇽 https://t.co/JGpO8NJyie',\n",
              " '@MasQueCineLatam Inolvidable ♥️💜💜 \\nMuchísimas gracias tio @Cinepolis  por darnos la oportunidad de vivir está exper… https://t.co/J0AoSAj1i8',\n",
              " '@Cinepolis Tío @Cinepolis en serio gracias por dejarme vivir esta experiencia tan maravillosa,  no cambiaría nada,… https://t.co/n50KPCPIW0',\n",
              " 'al final cinepolis no era una estafa piramidal',\n",
              " 'La experiencia mas bonita del mundo! @Cinepolis 💜💜\\n#BTSCONCERT \\n#PermissionToDanceOnStage \\n#ARMY @BTS_twt https://t.co/VMcM18ot40',\n",
              " 'Chica de rastas(? que se sentó en el G21 de la sala 9 a las 4:00pm para ver el concierto de los BTS en Cinépolis Pa… https://t.co/I1fycRjOfx',\n",
              " 'Fui a ver el concierto de BTS en Cinepolis de Avellaneda y se cortó 3 veces la trasmisión, uno por corte general y… https://t.co/ejmKYfvwbW',\n",
              " 'Hola @AyudaCinepolis hoy no es un buen día @Cinepolis   Fallo la app, la persona que sirvió las palomitas está muy… https://t.co/ZeGRBojYOU',\n",
              " 'ES QUE ESTUVO REBONITO 😭😭😭 #bts #cinepolis',\n",
              " 'DEOSSSS AUN NO ME LO CREOO FUE TAN BONITOOO\\n#BTS_IN_MEXICO #cinepolis https://t.co/mHfLD1EA0x',\n",
              " 'q buen servicio @Cinepolis te amo https://t.co/xCyVHyOjGY',\n",
              " 'Oigan a ustedes en cuánto les salió su combo BTS? #BTS #PTD_ON_STAGE_SEOUL @Cinepolis',\n",
              " '@Cinepolis Todas las anteriores 💜',\n",
              " '@Cinepolis gracias y gracias a tío Joel por todo&lt;3',\n",
              " '@Cinepolis De muchas armys también creo 💜💜💜😘😘😘 https://t.co/12gFWYmQAM',\n",
              " 'Las de Avellaneda que sufrimos los cortes de luz en pleno concierto reportense 🤙\\n\\n#PTD_ON_STAGE_SEOUL #cinepolis',\n",
              " \"@Cinepolis Gracias por todo Joel , este día fue el más feliz para muchas Army's (me incluyo) &lt;3\",\n",
              " 'Hola a todos, les vengo a contar lo q nos paso en el Cinepolis de Avellaneda, Sala 13. Estaba todo genial, entre te… https://t.co/JhLSMe71SS',\n",
              " '@Cinepolis No quería que se acabará 😭😭😭',\n",
              " '@_euphoriality @Cinepolis Siii estuvo bien chido jajaja con el fanchant y todo',\n",
              " '@yoonrockstar_ Yo tampoco iba a ir pero fui al dentista y al lado estaba el cinépolis y fui a ver si tenían entradas todavía y lo bueno q si',\n",
              " '@Cinepolis Plaza las Américas en Xalapa estuvo excelente!! Gracias tío Cinépolis me la pasé increíble y quedé afóni… https://t.co/qYP49XXxTY',\n",
              " 'Te entiendo Joel 😊💜 https://t.co/3TwRa2qlvM',\n",
              " 'De verdad fue HERMOSOOOO me siento muy feliz de haber podido ir al concierto en el cine y poder compartir con ARMY… https://t.co/11svcF0LdP',\n",
              " 'ARMYS QUE ESTABAN EN CINÉPOLIS GALERÍA, EN LA SALA 2 EN LA FUNCIÓN DE LAS 12:00 FUERON INCREÍBLES, TODAS CONTÁBAMOS… https://t.co/GbaDYcNM1H',\n",
              " 'Salí con palomitas pero no con voz💜💜💜💜y hermosos los boletos!!!\\n#BTS\\n#cinepolis https://t.co/6BtrKoPMHO',\n",
              " '@Cinepolis A descansar Joel te lo mereces gracias por todo tu esfuerzo y el apoyo a Army.\\nHasta la próxima 💜✌️ https://t.co/7uh2iIhux3',\n",
              " 'Yo en #cinepolis esperando que alguien me adopte porque todos iban acompañadxs y a mi me toco ir sola #btsconcert https://t.co/o16kQLc7fL',\n",
              " '@Cinepolis El mio también&lt;3😭',\n",
              " '@Cinepolis Muchas gracias, nos trataron muy bien en @Cinepolis  La Huerta de Morelia, y gracias a las chicas ARMY q… https://t.co/pkwhb5mqlc',\n",
              " 'Pude disfrutar de #PTD_ON_STAGE_SEOUL en las salas de @Cinepolis \\nGracias por transmitir el concierto, realmente no… https://t.co/6K4klaOAgZ',\n",
              " '@AMImexfb @bts_bighit @Cinepolis @BTS_twt Gracias 💜💜💜 https://t.co/nlZibjPVYQ',\n",
              " 'Como puedes salir tan perfecto en ss:’)\\n#ARMY #JIN #PermissionToDanceOnStage_Seoul #cinepolis https://t.co/Sk3Q4sRVom',\n",
              " 'Creo que me he quedado sin voz 😶\\n😂😂😂😂\\nAme este concierto 😍😍😍\\nCante y me divertí mucho 🎉\\n\\nARMYs de Sala 3 de Cinepol… https://t.co/1VDKmLkqrU',\n",
              " '@leisureqt Las de cinepolis la reviven en el cine\\n\\nSe siente como un concierto',\n",
              " '12/03/22\\n\\nUn gran día que no pienso olvidar jamás. 💌\\n#BTS #BTSPTDLIVEVIEWING \\n#BTSARMY #cinepolis https://t.co/8zVWTDHcox',\n",
              " '@Cinepolis De nuestra vida querrás decir 💜💜',\n",
              " 'Sin duda el concierto de BTS lo 💜 #ARMY pero tmb es una realidad que a @Cinepolis  se le durmió el gallo con el mar… https://t.co/lXM5j8mSX6',\n",
              " '@Cinepolis Joel te rifaste, gracias, este también fue el mejor día de mi vida... Espero que en un futuro nos volvam… https://t.co/mXZ5U6nALo',\n",
              " 'Si fuiste al PTD en Cinépolis multiplaza, sala 2 y te sentaste por la fila K (atrás de mi), amiga seamos amigas… me… https://t.co/brJouBbQSJ',\n",
              " 'papá @Cinepolis para cuando el anuncio de power of love en tus pantallas? aaaaaaa- muack 🥺\\n\\n#PowerOfLove #SEVENTEEN #cinepolis',\n",
              " 'El mejor dia\\n#cinepolis #BTSCONCERT #PermissionToDanceOnStage #BTS https://t.co/O39GW3n745',\n",
              " '@_euphoriality @Cinepolis Disculpa yo estuve en el cine de Tecomán sala 1 es la misma?',\n",
              " '@_Bangtop Jajaja pinche cinépolis',\n",
              " '@Cinepolis El de ARMY mx también, gracias por todo Joel 💜💜🥺',\n",
              " '@Cinepolis FUE MUY BONITA EXPERIENCIA, CONOCI NUEVAS AMIGAS Y EL PERSONAL MUY AMABLE 💜💜💜',\n",
              " '@Cinepolis No Joel, no salieron los boletos suficientes, mis amigas y yo nos quedamos fuera!!! Arrasaron con los boletos #joelmefallaste 🥺🥺🥺',\n",
              " 'Si alguien vende el vaso de cinepolis me escribe plissss',\n",
              " '@Cinepolis Te mereces tu promoción y un aumento Joel!!! https://t.co/PSxVyktXsY',\n",
              " 'Amamos la experiencia @Cinepolis  #PTD_ON_STAGE_SEOUL https://t.co/xuEpH57Z2B',\n",
              " 'el cinepolis de avellaneda llenisimo de gente, igual fue todo re lindo y pude verlos en pantalla grande 🥰',\n",
              " '@Cinepolis Fue hermoso https://t.co/dNpUUUxP8k',\n",
              " '@Cinepolis Muy felices 🎉🎊 https://t.co/VEPKDg5gwv',\n",
              " 'Todo fue muy lindo y emocionante, sin duda el mejor concierto 💜\\n#cinepolis\\n#PTD_ON_STAGE_SEOUL… https://t.co/LWbajDBXVq',\n",
              " '@Cinepolis La quinta opción, TODO!',\n",
              " 'csm los del cinepolis y su gerente mentiroso que no me quiso vender el boletito del combo solito 😤',\n",
              " 'Que bonita experiencia el haber visto un concierto de bts en el cine junto a más armys. Gritamos, bailamos y nos em… https://t.co/yDWxUnzSem',\n",
              " 'Un día inolvidable y más para #ARMY Muchas gracias a las personas que estuvieron dando obsequios que se les multipl… https://t.co/8xDnrTb4zV',\n",
              " 'Pero army , somos una cosa bárbara 🤣💜 #BTS_twt , perdón mi voz , recomiendo bajarle volumen 🤣🤣 #cinepolis  sigan as… https://t.co/s5BXtQhLNM',\n",
              " 'Chicas de la sala 6 de cinepolis en sendero apodaca las amo',\n",
              " 'Dejando de la lado la malísima organización que tenía cinepolis, estuvo demasiado lindo🥺 https://t.co/DX34mif9IN',\n",
              " 'Me divertí muchísimo, la gente estuvo escandalosos pero de buena vibra y el encargado de iluminación de se unió hac… https://t.co/DAtB4Xgeyo',\n",
              " '@MasQueCineLatam Asombroso💜✨\\nFue increíble, y conocí a personitas muy bellas. Gracias @Cinepolis @MasQueCineLatam… https://t.co/BQv7WSd9XL',\n",
              " 'Loco que suerte das a las q fueron al cine, y uno acá ni poder mirarlo de un link, cinepolis rosario te la tengo jurada',\n",
              " 'Gracias por acompañarme a ver a BTS, @Beethsrc 🤭💜\\n#BTSARMY\\xa0 #BTS_PTD_ON_STAGE_SEOUL \\n#BTS_IN_MÉXICO \\n#cinepolis https://t.co/kGuE6R7DC6',\n",
              " 'También el mío Joel también el mío https://t.co/LbCCQQmz2n',\n",
              " 'Gracias #cinepolis por dejarnos vivir esta experiencia hdjskaka amo ok https://t.co/CkYHPiS5qp',\n",
              " '#cinepolis amoamoamoamo https://t.co/yfTxrEdT8T',\n",
              " '@Cinepolis tengo una queja, a mitad de fake love se puso la pantalla en negro y cuando lo volvieron a poner no fue… https://t.co/o11NWoltdT',\n",
              " '@MasQueCineLatam Espectacular 💜☺️\\n\\nAgradecidas con el tío Cinepolis 💜 https://t.co/upI7FbqAO9',\n",
              " '@Cinepolis @Lr26Alexandra jaja',\n",
              " '@Cinepolis Gracias #cinepolis \\n💜💜💜💜💜💜💜💜',\n",
              " 'Se te quiere 😆💜 https://t.co/BjsivY0yIs',\n",
              " 'Claro no puede faltar el agradecerle a @Cinepolis y @MasQueCineLatam por traernos esta experiencia y por un buen se… https://t.co/Sa35BuE5L6',\n",
              " '@Cinepolis Para todo ARMY también !! Estábamos soñadas ☺️ https://t.co/IjbOGMgRJM',\n",
              " '@MasQueCineLatam Espectacular🥰😍🤩💜 #army #cinepolis @MasQueCineLatam @BTS_MXCO',\n",
              " '@CinepolisKlic @AyudaCinepolis @Cinepolis sábado sucursal Chetumal un solo cajero de taquilla #quehorror https://t.co/pLXF1HRfAS',\n",
              " '@Cinepolis Aunque te mente la madre pq me quitaste la foto antes de sacar mi selfie Joel? 😪',\n",
              " 'MAS DE 5 VECES SE CORTO LA LUZ EN EL CINE DE AVELLANEDA CINEPOLIS LA CONCHA DE TU HERMANA ME PERDÍ TODO EL CONCIERTO',\n",
              " 'Mi hermano Army y yo en #cinepolis @bangtangboys_sv https://t.co/wZDJ1YZQ18',\n",
              " '#cinepolis amigos me enamore de la sala que me toco, gracias a todos por unirse a nosotros para bailar y cantar uwu… https://t.co/T2qj3j6WoZ',\n",
              " 'Hasta me tome una foto con la Army que estaba a un lado de mi asiento. 🤧💖 #cinepolis #PTD_ON_STAGE_SEOUL_day2 #PermissionToDanceOnStage',\n",
              " 'honestamente no hiciste NADA bien @Cinepolis pero bueno 👍🏼',\n",
              " \"@Cinepolis Gracias me divertí mucho y conviví con otras ARMY's.\\n\\nCantamos, bailamos, hubo fanchat, aplausos, piropo… https://t.co/EnKuST1I2u\",\n",
              " 'Estamos de acuerdo todas que el concierto de hoy fue mágico ¿verdad? Te amo @Cinepolis por hacer esto realidad 🥺💖… https://t.co/w5k1HHFo2F',\n",
              " 'Fue una linda experiencia! 🥺💜\\n\\n#cinepolis  #BTSARMY #PTD_ON_STAGE_SEOUL  @BTS_twt  #BTS https://t.co/nioaQRasbJ',\n",
              " 'La sala 15 de las 16:00 de cinepolis perisur fue la mejor 😩💜💜💜 ayúdenme a encontrar a mis amigas de sangre morada 🥺… https://t.co/69X1eSC9JG',\n",
              " 'voy a ir al cinepolis',\n",
              " 'Mucha risa con el comercial de Cinépolis del chavorruco llegando a su cita de Tinder.\\nAh pero no fuera al revés por… https://t.co/SmdOxm38mf',\n",
              " '@MasQueCineLatam Facinante @BTS_twt #cinepolis  #BTSARMY',\n",
              " 'quiero agradecer a @Cinepolis por habernos permitido a ARMY tener una experiencia inolvidable y preciosa con el… https://t.co/WuHvqjMs8X',\n",
              " 'AMOOOOOOOOO, YA TENGO DOS BOLETOS AHORA. 😭😭\\nDefinitivamente vale la pena ir a un concierto de bts 💜✨. \\n#BTSCONCERT… https://t.co/kMIukcgH9r',\n",
              " '@minidaegugi En Cinépolis Pilar le cagamos la vida a los que fueron a ver Batman🤣 https://t.co/7mREAhgR87',\n",
              " 'Muchas gracias @Cinepolis @MasQueCineLatam fue una experiencia increíble, fue mágico desde el principio a fin. Me e… https://t.co/9y4Jy6sMMb',\n",
              " 'Ya listos @Cinepolis ! #ARMY #PTD_ON_STAGE_SEOUL https://t.co/bHjhgFimX8',\n",
              " 'Wey que padre la sala junior de Cinépolis con intermedio para jueguen en los jueguitos que ponen y luego seguir vie… https://t.co/GL6E62KudD',\n",
              " 'Te amo @Cinepolis  gracias por hacer esto posible 💜💜💜💜💜💜 https://t.co/PatDsrcI11',\n",
              " 'Ahhhhhh, estoy afónica, pero valió cada segundo!!! 💜✨🐰\\U0001f90d🤗\\n\\n#BTSCONCERTS #PermissionToDanceOnStage \\n#BTSARMY… https://t.co/JCbeUusnpZ',\n",
              " '@TwitchNeox @Cinepolis La energia y sistemas que se utilizan para guardar su información única es lo que provoca la… https://t.co/4UdMbQQlig',\n",
              " '@Cinepolis\\n#1DAY4EVER \\n#PTDLIVEVIEWING \\n#BTSCONCERT \\n#PTD_ON_STAGE_SEOUL \\nHicieron que este día fue maravilloso, Gr… https://t.co/WxfcPau1qK',\n",
              " '@MasQueCineLatam Fabuloso!!!!\\nGracias @Cinepolis \\n💜💜💜💜💜💜💜 https://t.co/YJQv2MzmjE',\n",
              " '💜💜#PermissionToDanceOnStage #cinepolis @Cinepolis muchas gracias por esta experiencia💜 https://t.co/piEVKn4MVd',\n",
              " 'acabo de salir del cine y solo diré que me duele la garganta ,😭💜 fue hermosooo! casi se me sale el alma en black sw… https://t.co/ghiRbVLZKH']"
            ]
          },
          "metadata": {},
          "execution_count": 39
        }
      ]
    },
    {
      "cell_type": "code",
      "metadata": {
        "id": "YERcfSWNaCLW"
      },
      "source": [
        "pattern = r'''(?x)                  # Flag para iniciar el modo verbose\n",
        "              (?:[A-Z]\\.)+          # Hace match con abreviaciones como U.S.A.\n",
        "              | \\w+(?:-\\w+)*        # Hace match con palabras que pueden tener un guión interno\n",
        "              | \\$?\\d+(?:\\.\\d+)?%?  # Hace match con dinero o porcentajes como $15.5 o 100%\n",
        "              | \\.\\.\\.              # Hace match con puntos suspensivos\n",
        "              | [][.,;\"'?():-_`]    # Hace match con signos de puntuación\n",
        "'''"
      ],
      "execution_count": 40,
      "outputs": []
    },
    {
      "cell_type": "code",
      "metadata": {
        "colab": {
          "base_uri": "https://localhost:8080/"
        },
        "id": "wQ1R3esHacVp",
        "outputId": "e55ea0de-a01f-415a-aa57-0041582b2174"
      },
      "source": [
        "import nltk\n",
        "nltk.download('punkt')\n",
        "from nltk import word_tokenize"
      ],
      "execution_count": 41,
      "outputs": [
        {
          "output_type": "stream",
          "name": "stdout",
          "text": [
            "[nltk_data] Downloading package punkt to /root/nltk_data...\n",
            "[nltk_data]   Unzipping tokenizers/punkt.zip.\n"
          ]
        }
      ]
    },
    {
      "cell_type": "code",
      "metadata": {
        "id": "8w5AxkqObNJA"
      },
      "source": [
        "texto = []\n",
        "\n",
        "for x in range(0, len(data)):\n",
        "  token_1 = data[x].lower()\n",
        "  token_2 = nltk.regexp_tokenize(token_1, pattern)\n",
        "  texto.append(token_2)"
      ],
      "execution_count": 42,
      "outputs": []
    },
    {
      "cell_type": "code",
      "metadata": {
        "id": "WZV4TmZHbmFa"
      },
      "source": [
        "#texto es una lista de listas "
      ],
      "execution_count": 43,
      "outputs": []
    },
    {
      "cell_type": "code",
      "metadata": {
        "id": "Qg2a3agEcAFQ"
      },
      "source": [
        "#texto"
      ],
      "execution_count": 44,
      "outputs": []
    },
    {
      "cell_type": "code",
      "metadata": {
        "id": "ef-V26M_bnFW"
      },
      "source": [
        "flatten = [w for l in texto for w in l]"
      ],
      "execution_count": 45,
      "outputs": []
    },
    {
      "cell_type": "code",
      "metadata": {
        "id": "OHrob5uKb0SP"
      },
      "source": [
        "import string\n",
        "puntuacion = list(string.punctuation)"
      ],
      "execution_count": 46,
      "outputs": []
    },
    {
      "cell_type": "code",
      "metadata": {
        "colab": {
          "base_uri": "https://localhost:8080/"
        },
        "id": "i4eUVY1Mb7OF",
        "outputId": "d9cd63ed-46bd-433f-a81a-9ccbacfaef60"
      },
      "source": [
        "puntuacion"
      ],
      "execution_count": 47,
      "outputs": [
        {
          "output_type": "execute_result",
          "data": {
            "text/plain": [
              "['!',\n",
              " '\"',\n",
              " '#',\n",
              " '$',\n",
              " '%',\n",
              " '&',\n",
              " \"'\",\n",
              " '(',\n",
              " ')',\n",
              " '*',\n",
              " '+',\n",
              " ',',\n",
              " '-',\n",
              " '.',\n",
              " '/',\n",
              " ':',\n",
              " ';',\n",
              " '<',\n",
              " '=',\n",
              " '>',\n",
              " '?',\n",
              " '@',\n",
              " '[',\n",
              " '\\\\',\n",
              " ']',\n",
              " '^',\n",
              " '_',\n",
              " '`',\n",
              " '{',\n",
              " '|',\n",
              " '}',\n",
              " '~']"
            ]
          },
          "metadata": {},
          "execution_count": 47
        }
      ]
    },
    {
      "cell_type": "code",
      "metadata": {
        "id": "Id8mbPHmb9Ml"
      },
      "source": [
        "puntuacion.append('https')\n",
        "puntuacion.append('co')\n",
        "puntuacion.append('t')"
      ],
      "execution_count": 48,
      "outputs": []
    },
    {
      "cell_type": "code",
      "metadata": {
        "colab": {
          "base_uri": "https://localhost:8080/"
        },
        "id": "DrDZ9PDPcRZi",
        "outputId": "898f54f1-760b-4302-ad3a-d9925f8151fb"
      },
      "source": [
        "puntuacion"
      ],
      "execution_count": 49,
      "outputs": [
        {
          "output_type": "execute_result",
          "data": {
            "text/plain": [
              "['!',\n",
              " '\"',\n",
              " '#',\n",
              " '$',\n",
              " '%',\n",
              " '&',\n",
              " \"'\",\n",
              " '(',\n",
              " ')',\n",
              " '*',\n",
              " '+',\n",
              " ',',\n",
              " '-',\n",
              " '.',\n",
              " '/',\n",
              " ':',\n",
              " ';',\n",
              " '<',\n",
              " '=',\n",
              " '>',\n",
              " '?',\n",
              " '@',\n",
              " '[',\n",
              " '\\\\',\n",
              " ']',\n",
              " '^',\n",
              " '_',\n",
              " '`',\n",
              " '{',\n",
              " '|',\n",
              " '}',\n",
              " '~',\n",
              " 'https',\n",
              " 'co',\n",
              " 't']"
            ]
          },
          "metadata": {},
          "execution_count": 49
        }
      ]
    },
    {
      "cell_type": "code",
      "metadata": {
        "colab": {
          "base_uri": "https://localhost:8080/"
        },
        "id": "der1Z0BNcXgW",
        "outputId": "ec4f61e1-12ad-4f1b-93a7-28044ae9395c"
      },
      "source": [
        "nltk.download('stopwords')\n",
        "stop_words_n = nltk.corpus.stopwords.words('spanish')"
      ],
      "execution_count": 50,
      "outputs": [
        {
          "output_type": "stream",
          "name": "stdout",
          "text": [
            "[nltk_data] Downloading package stopwords to /root/nltk_data...\n",
            "[nltk_data]   Unzipping corpora/stopwords.zip.\n"
          ]
        }
      ]
    },
    {
      "cell_type": "code",
      "metadata": {
        "id": "BPQ2s5nFcx_f"
      },
      "source": [
        "df_2 = [w for w in flatten if w not in stop_words_n]"
      ],
      "execution_count": 51,
      "outputs": []
    },
    {
      "cell_type": "code",
      "metadata": {
        "id": "fdZr3c4Sc__W"
      },
      "source": [
        "df_3 = [w for w in df_2 if w not in puntuacion]"
      ],
      "execution_count": 52,
      "outputs": []
    },
    {
      "cell_type": "code",
      "metadata": {
        "id": "AeJqPmEQdFiV"
      },
      "source": [
        "freq_words = nltk.FreqDist(df_3)"
      ],
      "execution_count": 53,
      "outputs": []
    },
    {
      "cell_type": "code",
      "metadata": {
        "colab": {
          "base_uri": "https://localhost:8080/"
        },
        "id": "smu5U9XCdM99",
        "outputId": "e5ee81f2-d8d2-4e3d-8b20-a7daa20e6710"
      },
      "source": [
        "freq_words.most_common(15)"
      ],
      "execution_count": 54,
      "outputs": [
        {
          "output_type": "execute_result",
          "data": {
            "text/plain": [
              "[('cinepolis', 243),\n",
              " ('gracias', 95),\n",
              " ('army', 33),\n",
              " ('cinépolis', 32),\n",
              " ('concierto', 31),\n",
              " ('experiencia', 28),\n",
              " ('bts', 28),\n",
              " ('sala', 28),\n",
              " ('joel', 25),\n",
              " ('masquecinelatam', 24),\n",
              " ('si', 19),\n",
              " ('cine', 19),\n",
              " ('tío', 15),\n",
              " ('ptd_on_stage_seoul', 14),\n",
              " ('muchas', 13)]"
            ]
          },
          "metadata": {},
          "execution_count": 54
        }
      ]
    },
    {
      "cell_type": "code",
      "metadata": {
        "id": "QD9SSIk8dQ2B"
      },
      "source": [
        "omitir_palabras = ['cinepolis','cinépolis']"
      ],
      "execution_count": 61,
      "outputs": []
    },
    {
      "cell_type": "code",
      "metadata": {
        "id": "omnXYfMSdeVW"
      },
      "source": [
        "df_4 =  [w for w in df_3 if w not in omitir_palabras]"
      ],
      "execution_count": 62,
      "outputs": []
    },
    {
      "cell_type": "code",
      "metadata": {
        "id": "5up2DDpvdkW2"
      },
      "source": [
        "freq_words = nltk.FreqDist(df_4)"
      ],
      "execution_count": 63,
      "outputs": []
    },
    {
      "cell_type": "code",
      "metadata": {
        "colab": {
          "base_uri": "https://localhost:8080/"
        },
        "id": "Mpfuj9mCdneH",
        "outputId": "86966a65-51eb-4aa9-be99-2e129d116927"
      },
      "source": [
        "freq_words.most_common(15)"
      ],
      "execution_count": 64,
      "outputs": [
        {
          "output_type": "execute_result",
          "data": {
            "text/plain": [
              "[('gracias', 95),\n",
              " ('army', 33),\n",
              " ('concierto', 31),\n",
              " ('experiencia', 28),\n",
              " ('bts', 28),\n",
              " ('sala', 28),\n",
              " ('joel', 25),\n",
              " ('masquecinelatam', 24),\n",
              " ('si', 19),\n",
              " ('cine', 19),\n",
              " ('tío', 15),\n",
              " ('ptd_on_stage_seoul', 14),\n",
              " ('muchas', 13),\n",
              " ('día', 13),\n",
              " ('q', 12)]"
            ]
          },
          "metadata": {},
          "execution_count": 64
        }
      ]
    },
    {
      "cell_type": "code",
      "metadata": {
        "id": "GUC2ZRyGdo8m"
      },
      "source": [
        "from wordcloud import WordCloud\n",
        "import matplotlib.pyplot as plt"
      ],
      "execution_count": 65,
      "outputs": []
    },
    {
      "cell_type": "code",
      "metadata": {
        "colab": {
          "base_uri": "https://localhost:8080/",
          "height": 198
        },
        "id": "NO4PNlhgeRyt",
        "outputId": "0eb85ad3-7fb4-4970-95d7-0de68b1538a6"
      },
      "source": [
        "wordcloud = WordCloud(background_color='white', collocations=False, max_words=30).fit_words(freq_words)\n",
        "plt.imshow(wordcloud, interpolation='bilinear')\n",
        "plt.axis('off')\n",
        "plt.show()"
      ],
      "execution_count": 66,
      "outputs": [
        {
          "output_type": "display_data",
          "data": {
            "text/plain": [
              "<Figure size 432x288 with 1 Axes>"
            ],
            "image/png": "[encoded data removed]"
          },
          "metadata": {
            "needs_background": "light"
          }
        }
      ]
    }
  ]
}